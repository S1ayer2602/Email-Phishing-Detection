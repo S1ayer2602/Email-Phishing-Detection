{
  "metadata": {
    "kernelspec": {
      "language": "python",
      "display_name": "Python 3",
      "name": "python3"
    },
    "language_info": {
      "name": "python",
      "version": "3.10.10",
      "mimetype": "text/x-python",
      "codemirror_mode": {
        "name": "ipython",
        "version": 3
      },
      "pygments_lexer": "ipython3",
      "nbconvert_exporter": "python",
      "file_extension": ".py"
    },
    "colab": {
      "provenance": []
    }
  },
  "nbformat_minor": 0,
  "nbformat": 4,
  "cells": [
    {
      "cell_type": "markdown",
      "source": [
        "# Importing libraries, loading and transforming data"
      ],
      "metadata": {
        "id": "0E8lsyrVI-U4"
      }
    },
    {
      "cell_type": "code",
      "source": [
        "!pip install -q mlflow nlp"
      ],
      "metadata": {
        "execution": {
          "iopub.status.busy": "2023-07-12T14:26:39.547844Z",
          "iopub.execute_input": "2023-07-12T14:26:39.548195Z",
          "iopub.status.idle": "2023-07-12T14:26:59.569528Z",
          "shell.execute_reply.started": "2023-07-12T14:26:39.548164Z",
          "shell.execute_reply": "2023-07-12T14:26:59.567996Z"
        },
        "trusted": true,
        "id": "0CihTCZVI-U6",
        "outputId": "d9114aa7-172d-4e85-c704-ef7c53d87d0f"
      },
      "execution_count": null,
      "outputs": [
        {
          "name": "stdout",
          "text": "\u001b[33mWARNING: Running pip as the 'root' user can result in broken permissions and conflicting behaviour with the system package manager. It is recommended to use a virtual environment instead: https://pip.pypa.io/warnings/venv\u001b[0m\u001b[33m\n\u001b[0m",
          "output_type": "stream"
        }
      ]
    },
    {
      "cell_type": "code",
      "source": [
        "#imports\n",
        "import pandas as pd\n",
        "import gc\n",
        "import re\n",
        "import numpy as np\n",
        "import torch\n",
        "from transformers import AutoModel, AutoTokenizer\n",
        "from transformers import TextDataset, LineByLineTextDataset, DataCollatorForLanguageModeling, \\\n",
        "pipeline, Trainer, TrainingArguments, DataCollatorWithPadding\n",
        "from transformers import AutoModelForSequenceClassification\n",
        "from nlp import Dataset\n",
        "from imblearn.over_sampling import RandomOverSampler\n",
        "import datasets\n",
        "from transformers import pipeline\n",
        "from bs4 import BeautifulSoup\n",
        "from tqdm import tqdm\n",
        "tqdm.pandas()"
      ],
      "metadata": {
        "execution": {
          "iopub.status.busy": "2023-07-12T14:26:59.572738Z",
          "iopub.execute_input": "2023-07-12T14:26:59.573180Z",
          "iopub.status.idle": "2023-07-12T14:27:14.905100Z",
          "shell.execute_reply.started": "2023-07-12T14:26:59.573136Z",
          "shell.execute_reply": "2023-07-12T14:27:14.904104Z"
        },
        "trusted": true,
        "id": "1OYNbONqI-U7",
        "outputId": "12e26473-de22-45e4-8f75-102e7ec8e045"
      },
      "execution_count": null,
      "outputs": [
        {
          "name": "stderr",
          "text": "/opt/conda/lib/python3.10/site-packages/scipy/__init__.py:146: UserWarning: A NumPy version >=1.16.5 and <1.23.0 is required for this version of SciPy (detected version 1.23.5\n  warnings.warn(f\"A NumPy version >={np_minversion} and <{np_maxversion}\"\n",
          "output_type": "stream"
        }
      ]
    },
    {
      "cell_type": "code",
      "source": [
        "# set parameters\n",
        "train_fraction = 0.8 # fraction of a dataset used for training (the rest used for validation)\n",
        "num_train_epochs = 3 # epochs to train\n",
        "batch_size = 16 # batch size for training and validation\n",
        "warmup_steps = 50\n",
        "weight_decay = 0.02\n",
        "BERT_MODEL = \"distilbert-base-cased\"\n",
        "output_dir = \"./phishing-email-detection\""
      ],
      "metadata": {
        "execution": {
          "iopub.status.busy": "2023-07-12T14:27:14.906577Z",
          "iopub.execute_input": "2023-07-12T14:27:14.907617Z",
          "iopub.status.idle": "2023-07-12T14:27:14.916515Z",
          "shell.execute_reply.started": "2023-07-12T14:27:14.907578Z",
          "shell.execute_reply": "2023-07-12T14:27:14.915586Z"
        },
        "trusted": true,
        "id": "OckfjkXxI-U8"
      },
      "execution_count": null,
      "outputs": []
    },
    {
      "cell_type": "code",
      "source": [
        "df = pd.read_csv(\"/kaggle/input/phishingemails/Phishing_Email.csv\").drop(['Unnamed: 0'], axis=1).drop_duplicates()\n",
        "print(df.shape)\n",
        "df.sample(5).T"
      ],
      "metadata": {
        "execution": {
          "iopub.status.busy": "2023-07-12T14:27:14.917918Z",
          "iopub.execute_input": "2023-07-12T14:27:14.918308Z",
          "iopub.status.idle": "2023-07-12T14:27:16.037379Z",
          "shell.execute_reply.started": "2023-07-12T14:27:14.918273Z",
          "shell.execute_reply": "2023-07-12T14:27:16.036479Z"
        },
        "trusted": true,
        "id": "2rleXnJfI-U8",
        "outputId": "fe80f3da-f418-4448-efee-4852c30826bd"
      },
      "execution_count": null,
      "outputs": [
        {
          "name": "stdout",
          "text": "(17539, 2)\n",
          "output_type": "stream"
        },
        {
          "execution_count": 4,
          "output_type": "execute_result",
          "data": {
            "text/plain": "                                                        12206  \\\nEmail Text  On Monday 22 July 2002 07:00 CET John Rudd wro...   \nEmail Type                                         Safe Email   \n\n                                                        2702   \\\nEmail Text  **Dublin**: something from the archives. Daev ...   \nEmail Type                                         Safe Email   \n\n                                                        11296  \\\nEmail Text  fw : cms rfp response fyi - - - - - - original...   \nEmail Type                                         Safe Email   \n\n                                                        564    \\\nEmail Text  Joseph S. Barrera III:\\n>I just use the free/a...   \nEmail Type                                         Safe Email   \n\n                                                        11429  \nEmail Text  re : cp & l daren : when you get a chance , st...  \nEmail Type                                         Safe Email  ",
            "text/html": "<div>\n<style scoped>\n    .dataframe tbody tr th:only-of-type {\n        vertical-align: middle;\n    }\n\n    .dataframe tbody tr th {\n        vertical-align: top;\n    }\n\n    .dataframe thead th {\n        text-align: right;\n    }\n</style>\n<table border=\"1\" class=\"dataframe\">\n  <thead>\n    <tr style=\"text-align: right;\">\n      <th></th>\n      <th>12206</th>\n      <th>2702</th>\n      <th>11296</th>\n      <th>564</th>\n      <th>11429</th>\n    </tr>\n  </thead>\n  <tbody>\n    <tr>\n      <th>Email Text</th>\n      <td>On Monday 22 July 2002 07:00 CET John Rudd wro...</td>\n      <td>**Dublin**: something from the archives. Daev ...</td>\n      <td>fw : cms rfp response fyi - - - - - - original...</td>\n      <td>Joseph S. Barrera III:\\n&gt;I just use the free/a...</td>\n      <td>re : cp &amp; l daren : when you get a chance , st...</td>\n    </tr>\n    <tr>\n      <th>Email Type</th>\n      <td>Safe Email</td>\n      <td>Safe Email</td>\n      <td>Safe Email</td>\n      <td>Safe Email</td>\n      <td>Safe Email</td>\n    </tr>\n  </tbody>\n</table>\n</div>"
          },
          "metadata": {}
        }
      ]
    },
    {
      "cell_type": "code",
      "source": [
        "# create target\n",
        "df['label'] = (df['Email Type']==\"Phishing Email\").astype(int)\n",
        "df['title'] = df['Email Text']\n",
        "df = df[['title', 'label']]\n",
        "\n",
        "print(df.shape)\n",
        "df.sample(20)"
      ],
      "metadata": {
        "execution": {
          "iopub.status.busy": "2023-07-12T14:27:16.040808Z",
          "iopub.execute_input": "2023-07-12T14:27:16.041480Z",
          "iopub.status.idle": "2023-07-12T14:27:16.068980Z",
          "shell.execute_reply.started": "2023-07-12T14:27:16.041440Z",
          "shell.execute_reply": "2023-07-12T14:27:16.067998Z"
        },
        "trusted": true,
        "id": "buaKRQXQI-U9",
        "outputId": "89effc87-2f11-43b2-a343-0f90f8ded0b3"
      },
      "execution_count": null,
      "outputs": [
        {
          "name": "stdout",
          "text": "(17539, 2)\n",
          "output_type": "stream"
        },
        {
          "execution_count": 5,
          "output_type": "execute_result",
          "data": {
            "text/plain": "                                                   title  label\n14439  I've been testing Razor, invoked from sendmail...      0\n4179   only if you are serious . . . will i help you ...      1\n18158  fw : can you check a deal for me bill , this e...      0\n11429  re : cp & l daren : when you get a chance , st...      0\n12167  What I understood was that the activists on th...      0\n13000  re : xbtkvi , the ala admitted banned cd gover...      1\n9157   How do I install / add an additional service p...      0\n138    re [ 10 ] : i trust you at six male paranormal...      1\n15245  macromedia dreamweaver mx 2004 plus templates ...      1\n12336  largest collection of dowlnoadable porn d \\ / ...      1\n14965  enhance your anatomy within a few days you sho...      1\n17333  On Fri, 13 Sep 2002, Dale Alspach wrote:\\n> My...      0\n2371   make money at home with ebay ! order confirmat...      1\n1730   \\nThe way to debug something like this is to t...      0\n13046  featured profile running at the right time pen...      1\n103    increase your penis size yes . . it is possibl...      1\n13377  URL: http://www.newsisfree.com/click/-2,842319...      0\n14163  \" syntax and the comparative method concerning...      0\n14143  dowlnoad 70 + full lenght p 0 r n movies - x 5...      1\n6152   call for papers : panel on telephone calls pan...      0",
            "text/html": "<div>\n<style scoped>\n    .dataframe tbody tr th:only-of-type {\n        vertical-align: middle;\n    }\n\n    .dataframe tbody tr th {\n        vertical-align: top;\n    }\n\n    .dataframe thead th {\n        text-align: right;\n    }\n</style>\n<table border=\"1\" class=\"dataframe\">\n  <thead>\n    <tr style=\"text-align: right;\">\n      <th></th>\n      <th>title</th>\n      <th>label</th>\n    </tr>\n  </thead>\n  <tbody>\n    <tr>\n      <th>14439</th>\n      <td>I've been testing Razor, invoked from sendmail...</td>\n      <td>0</td>\n    </tr>\n    <tr>\n      <th>4179</th>\n      <td>only if you are serious . . . will i help you ...</td>\n      <td>1</td>\n    </tr>\n    <tr>\n      <th>18158</th>\n      <td>fw : can you check a deal for me bill , this e...</td>\n      <td>0</td>\n    </tr>\n    <tr>\n      <th>11429</th>\n      <td>re : cp &amp; l daren : when you get a chance , st...</td>\n      <td>0</td>\n    </tr>\n    <tr>\n      <th>12167</th>\n      <td>What I understood was that the activists on th...</td>\n      <td>0</td>\n    </tr>\n    <tr>\n      <th>13000</th>\n      <td>re : xbtkvi , the ala admitted banned cd gover...</td>\n      <td>1</td>\n    </tr>\n    <tr>\n      <th>9157</th>\n      <td>How do I install / add an additional service p...</td>\n      <td>0</td>\n    </tr>\n    <tr>\n      <th>138</th>\n      <td>re [ 10 ] : i trust you at six male paranormal...</td>\n      <td>1</td>\n    </tr>\n    <tr>\n      <th>15245</th>\n      <td>macromedia dreamweaver mx 2004 plus templates ...</td>\n      <td>1</td>\n    </tr>\n    <tr>\n      <th>12336</th>\n      <td>largest collection of dowlnoadable porn d \\ / ...</td>\n      <td>1</td>\n    </tr>\n    <tr>\n      <th>14965</th>\n      <td>enhance your anatomy within a few days you sho...</td>\n      <td>1</td>\n    </tr>\n    <tr>\n      <th>17333</th>\n      <td>On Fri, 13 Sep 2002, Dale Alspach wrote:\\n&gt; My...</td>\n      <td>0</td>\n    </tr>\n    <tr>\n      <th>2371</th>\n      <td>make money at home with ebay ! order confirmat...</td>\n      <td>1</td>\n    </tr>\n    <tr>\n      <th>1730</th>\n      <td>\\nThe way to debug something like this is to t...</td>\n      <td>0</td>\n    </tr>\n    <tr>\n      <th>13046</th>\n      <td>featured profile running at the right time pen...</td>\n      <td>1</td>\n    </tr>\n    <tr>\n      <th>103</th>\n      <td>increase your penis size yes . . it is possibl...</td>\n      <td>1</td>\n    </tr>\n    <tr>\n      <th>13377</th>\n      <td>URL: http://www.newsisfree.com/click/-2,842319...</td>\n      <td>0</td>\n    </tr>\n    <tr>\n      <th>14163</th>\n      <td>\" syntax and the comparative method concerning...</td>\n      <td>0</td>\n    </tr>\n    <tr>\n      <th>14143</th>\n      <td>dowlnoad 70 + full lenght p 0 r n movies - x 5...</td>\n      <td>1</td>\n    </tr>\n    <tr>\n      <th>6152</th>\n      <td>call for papers : panel on telephone calls pan...</td>\n      <td>0</td>\n    </tr>\n  </tbody>\n</table>\n</div>"
          },
          "metadata": {}
        }
      ]
    },
    {
      "cell_type": "code",
      "source": [
        "# drop null records\n",
        "df.dropna(inplace=True)"
      ],
      "metadata": {
        "execution": {
          "iopub.status.busy": "2023-07-12T14:27:16.070414Z",
          "iopub.execute_input": "2023-07-12T14:27:16.070974Z",
          "iopub.status.idle": "2023-07-12T14:27:16.082985Z",
          "shell.execute_reply.started": "2023-07-12T14:27:16.070940Z",
          "shell.execute_reply": "2023-07-12T14:27:16.082007Z"
        },
        "trusted": true,
        "id": "g4QNcLleI-U9"
      },
      "execution_count": null,
      "outputs": []
    },
    {
      "cell_type": "code",
      "source": [
        "df['label'].mean()"
      ],
      "metadata": {
        "execution": {
          "iopub.status.busy": "2023-07-12T14:27:16.084486Z",
          "iopub.execute_input": "2023-07-12T14:27:16.084938Z",
          "iopub.status.idle": "2023-07-12T14:27:16.094157Z",
          "shell.execute_reply.started": "2023-07-12T14:27:16.084907Z",
          "shell.execute_reply": "2023-07-12T14:27:16.093201Z"
        },
        "trusted": true,
        "id": "cmBUkS2aI-U9",
        "outputId": "50b12000-67e5-4f6a-d3d5-aac83a89400c"
      },
      "execution_count": null,
      "outputs": [
        {
          "execution_count": 7,
          "output_type": "execute_result",
          "data": {
            "text/plain": "0.37393089291823467"
          },
          "metadata": {}
        }
      ]
    },
    {
      "cell_type": "code",
      "source": [
        "# random oversampling of minority class - not needed because of adding weights to minority class\n",
        "y = df[['label']]\n",
        "df = df.drop(['label'], axis=1)\n",
        "ros = RandomOverSampler(random_state=83)\n",
        "df, y_resampled = ros.fit_resample(df, y)\n",
        "del y\n",
        "df['label'] = y_resampled\n",
        "print(df.shape)\n",
        "del y_resampled\n",
        "gc.collect()"
      ],
      "metadata": {
        "execution": {
          "iopub.status.busy": "2023-07-12T14:27:16.095538Z",
          "iopub.execute_input": "2023-07-12T14:27:16.095879Z",
          "iopub.status.idle": "2023-07-12T14:27:16.433040Z",
          "shell.execute_reply.started": "2023-07-12T14:27:16.095847Z",
          "shell.execute_reply": "2023-07-12T14:27:16.432137Z"
        },
        "trusted": true,
        "id": "tBcuuYzvI-U9",
        "outputId": "03516b92-8e44-4972-cb2e-595e10ffe701"
      },
      "execution_count": null,
      "outputs": [
        {
          "name": "stdout",
          "text": "(21960, 2)\n",
          "output_type": "stream"
        },
        {
          "execution_count": 8,
          "output_type": "execute_result",
          "data": {
            "text/plain": "60"
          },
          "metadata": {}
        }
      ]
    },
    {
      "cell_type": "code",
      "source": [
        "medium_dataset = Dataset.from_pandas(df)"
      ],
      "metadata": {
        "execution": {
          "iopub.status.busy": "2023-07-12T14:27:16.434519Z",
          "iopub.execute_input": "2023-07-12T14:27:16.435134Z",
          "iopub.status.idle": "2023-07-12T14:27:16.563361Z",
          "shell.execute_reply.started": "2023-07-12T14:27:16.435098Z",
          "shell.execute_reply": "2023-07-12T14:27:16.562293Z"
        },
        "trusted": true,
        "id": "eFiQTuBYI-U-"
      },
      "execution_count": null,
      "outputs": []
    },
    {
      "cell_type": "code",
      "source": [
        "del df\n",
        "gc.collect()"
      ],
      "metadata": {
        "execution": {
          "iopub.status.busy": "2023-07-12T14:27:16.564760Z",
          "iopub.execute_input": "2023-07-12T14:27:16.565114Z",
          "iopub.status.idle": "2023-07-12T14:27:16.887809Z",
          "shell.execute_reply.started": "2023-07-12T14:27:16.565080Z",
          "shell.execute_reply": "2023-07-12T14:27:16.886821Z"
        },
        "trusted": true,
        "id": "5lsKtswEI-U-",
        "outputId": "8d04e990-2178-4322-db25-8f12fda07c91"
      },
      "execution_count": null,
      "outputs": [
        {
          "execution_count": 10,
          "output_type": "execute_result",
          "data": {
            "text/plain": "0"
          },
          "metadata": {}
        }
      ]
    },
    {
      "cell_type": "code",
      "source": [
        "tokenizer = AutoTokenizer.from_pretrained(BERT_MODEL, use_fast=True, low_cpu_mem_usage=False)"
      ],
      "metadata": {
        "execution": {
          "iopub.status.busy": "2023-07-12T14:27:16.889689Z",
          "iopub.execute_input": "2023-07-12T14:27:16.890504Z",
          "iopub.status.idle": "2023-07-12T14:27:18.190279Z",
          "shell.execute_reply.started": "2023-07-12T14:27:16.890467Z",
          "shell.execute_reply": "2023-07-12T14:27:18.189304Z"
        },
        "trusted": true,
        "id": "shT43ajmI-U-",
        "outputId": "139a0e89-a4b4-4d63-f74c-f73c1a47bab0",
        "colab": {
          "referenced_widgets": [
            "52afa97f7d954704bbe2be7211ddbccb",
            "443fa08f07854c9c81fb3a68d11384eb",
            "1e349c9f6a5446d18a88b4def67479ca",
            "d177de33b4884b99916b5df139d21f2c"
          ]
        }
      },
      "execution_count": null,
      "outputs": [
        {
          "output_type": "display_data",
          "data": {
            "text/plain": "Downloading (…)okenizer_config.json:   0%|          | 0.00/29.0 [00:00<?, ?B/s]",
            "application/vnd.jupyter.widget-view+json": {
              "version_major": 2,
              "version_minor": 0,
              "model_id": "52afa97f7d954704bbe2be7211ddbccb"
            }
          },
          "metadata": {}
        },
        {
          "output_type": "display_data",
          "data": {
            "text/plain": "Downloading (…)lve/main/config.json:   0%|          | 0.00/411 [00:00<?, ?B/s]",
            "application/vnd.jupyter.widget-view+json": {
              "version_major": 2,
              "version_minor": 0,
              "model_id": "443fa08f07854c9c81fb3a68d11384eb"
            }
          },
          "metadata": {}
        },
        {
          "output_type": "display_data",
          "data": {
            "text/plain": "Downloading (…)solve/main/vocab.txt:   0%|          | 0.00/213k [00:00<?, ?B/s]",
            "application/vnd.jupyter.widget-view+json": {
              "version_major": 2,
              "version_minor": 0,
              "model_id": "1e349c9f6a5446d18a88b4def67479ca"
            }
          },
          "metadata": {}
        },
        {
          "output_type": "display_data",
          "data": {
            "text/plain": "Downloading (…)/main/tokenizer.json:   0%|          | 0.00/436k [00:00<?, ?B/s]",
            "application/vnd.jupyter.widget-view+json": {
              "version_major": 2,
              "version_minor": 0,
              "model_id": "d177de33b4884b99916b5df139d21f2c"
            }
          },
          "metadata": {}
        }
      ]
    },
    {
      "cell_type": "code",
      "source": [
        "# simple function to batch tokenize utterances with truncation\n",
        "def preprocess_function(examples):\n",
        "    return tokenizer(examples[\"title\"], truncation=True)\n",
        "\n",
        "medium_dataset = medium_dataset.map(preprocess_function, batched=True)"
      ],
      "metadata": {
        "execution": {
          "iopub.status.busy": "2023-07-12T14:27:18.193656Z",
          "iopub.execute_input": "2023-07-12T14:27:18.193943Z",
          "iopub.status.idle": "2023-07-12T14:28:17.797579Z",
          "shell.execute_reply.started": "2023-07-12T14:27:18.193917Z",
          "shell.execute_reply": "2023-07-12T14:28:17.796447Z"
        },
        "trusted": true,
        "id": "btajlIRII-U-",
        "outputId": "56f27aaa-502a-4737-be45-3f9f825b08dd",
        "colab": {
          "referenced_widgets": [
            "c76cb455feed4b65a0d8b2c26323db6a"
          ]
        }
      },
      "execution_count": null,
      "outputs": [
        {
          "output_type": "display_data",
          "data": {
            "text/plain": "  0%|          | 0/22 [00:00<?, ?it/s]",
            "application/vnd.jupyter.widget-view+json": {
              "version_major": 2,
              "version_minor": 0,
              "model_id": "c76cb455feed4b65a0d8b2c26323db6a"
            }
          },
          "metadata": {}
        }
      ]
    },
    {
      "cell_type": "code",
      "source": [
        "# Dataset has a built in train test split method\n",
        "medium_dataset = medium_dataset.train_test_split(test_size=1-train_fraction)"
      ],
      "metadata": {
        "execution": {
          "iopub.status.busy": "2023-07-12T14:28:17.799104Z",
          "iopub.execute_input": "2023-07-12T14:28:17.799579Z",
          "iopub.status.idle": "2023-07-12T14:28:46.662660Z",
          "shell.execute_reply.started": "2023-07-12T14:28:17.799542Z",
          "shell.execute_reply": "2023-07-12T14:28:46.661736Z"
        },
        "trusted": true,
        "id": "wUqnKHfJI-U-",
        "outputId": "9faebef3-e1f9-44f1-e331-1277d36871f3",
        "colab": {
          "referenced_widgets": [
            "1cdfe3e50f6a4154a256eea485120f5a",
            "ddccda5575034ca082035cf9fe3abb00"
          ]
        }
      },
      "execution_count": null,
      "outputs": [
        {
          "output_type": "display_data",
          "data": {
            "text/plain": "  0%|          | 0/18 [00:00<?, ?it/s]",
            "application/vnd.jupyter.widget-view+json": {
              "version_major": 2,
              "version_minor": 0,
              "model_id": "1cdfe3e50f6a4154a256eea485120f5a"
            }
          },
          "metadata": {}
        },
        {
          "output_type": "display_data",
          "data": {
            "text/plain": "  0%|          | 0/5 [00:00<?, ?it/s]",
            "application/vnd.jupyter.widget-view+json": {
              "version_major": 2,
              "version_minor": 0,
              "model_id": "ddccda5575034ca082035cf9fe3abb00"
            }
          },
          "metadata": {}
        }
      ]
    },
    {
      "cell_type": "code",
      "source": [
        "medium_dataset"
      ],
      "metadata": {
        "execution": {
          "iopub.status.busy": "2023-07-12T14:28:46.668896Z",
          "iopub.execute_input": "2023-07-12T14:28:46.669596Z",
          "iopub.status.idle": "2023-07-12T14:28:46.676952Z",
          "shell.execute_reply.started": "2023-07-12T14:28:46.669560Z",
          "shell.execute_reply": "2023-07-12T14:28:46.675944Z"
        },
        "trusted": true,
        "id": "mdNPBf8EI-U_",
        "outputId": "92ed2b6b-6e69-4bc8-a537-a2ade55e4ce5"
      },
      "execution_count": null,
      "outputs": [
        {
          "execution_count": 14,
          "output_type": "execute_result",
          "data": {
            "text/plain": "{'train': Dataset(features: {'title': Value(dtype='string', id=None), 'label': Value(dtype='int64', id=None), 'input_ids': Sequence(feature=Value(dtype='int64', id=None), length=-1, id=None), 'attention_mask': Sequence(feature=Value(dtype='int64', id=None), length=-1, id=None)}, num_rows: 17568),\n 'test': Dataset(features: {'title': Value(dtype='string', id=None), 'label': Value(dtype='int64', id=None), 'input_ids': Sequence(feature=Value(dtype='int64', id=None), length=-1, id=None), 'attention_mask': Sequence(feature=Value(dtype='int64', id=None), length=-1, id=None)}, num_rows: 4392)}"
          },
          "metadata": {}
        }
      ]
    },
    {
      "cell_type": "code",
      "source": [
        "medium_dataset.remove_column_(\"title\")  # remove the text column because we don't need to keep it in memory anymore\n",
        "# this is not required but speeds things up a bit"
      ],
      "metadata": {
        "execution": {
          "iopub.status.busy": "2023-07-12T14:28:46.680164Z",
          "iopub.execute_input": "2023-07-12T14:28:46.683313Z",
          "iopub.status.idle": "2023-07-12T14:28:46.691263Z",
          "shell.execute_reply.started": "2023-07-12T14:28:46.683275Z",
          "shell.execute_reply": "2023-07-12T14:28:46.689988Z"
        },
        "trusted": true,
        "id": "FqEPGpMMI-U_"
      },
      "execution_count": null,
      "outputs": []
    },
    {
      "cell_type": "code",
      "source": [
        "# DataCollatorWithPadding creates batch of data. It also dynamically pads text to the\n",
        "#  length of the longest element in the batch, making them all the same length.\n",
        "#  It's possible to pad your text in the tokenizer function with padding=True, dynamic padding is more efficient.\n",
        "data_collator = DataCollatorWithPadding(tokenizer=tokenizer)"
      ],
      "metadata": {
        "execution": {
          "iopub.status.busy": "2023-07-12T14:28:46.696135Z",
          "iopub.execute_input": "2023-07-12T14:28:46.696991Z",
          "iopub.status.idle": "2023-07-12T14:28:46.705314Z",
          "shell.execute_reply.started": "2023-07-12T14:28:46.696955Z",
          "shell.execute_reply": "2023-07-12T14:28:46.704263Z"
        },
        "trusted": true,
        "id": "cmVvbbJsI-U_"
      },
      "execution_count": null,
      "outputs": []
    },
    {
      "cell_type": "code",
      "source": [
        "tokenizer.decode(medium_dataset['train'][0]['input_ids'])"
      ],
      "metadata": {
        "execution": {
          "iopub.status.busy": "2023-07-12T14:28:46.707158Z",
          "iopub.execute_input": "2023-07-12T14:28:46.707816Z",
          "iopub.status.idle": "2023-07-12T14:28:46.721215Z",
          "shell.execute_reply.started": "2023-07-12T14:28:46.707784Z",
          "shell.execute_reply": "2023-07-12T14:28:46.720251Z"
        },
        "trusted": true,
        "id": "o6yMdTyrI-U_",
        "outputId": "f1df5735-b8c6-42e5-d777-ceb275d6e62a"
      },
      "execution_count": null,
      "outputs": [
        {
          "execution_count": 17,
          "output_type": "execute_result",
          "data": {
            "text/plain": "\"[CLS] <! - - a { text - decoration : none } - - > V. I. P Animal lovers club invite new members! No shit! Only REAL ANIMAL porn! Our super active members send home video and photos every day! Don't miss this offer! CLICK to JOIN US! [ remove my email from mail list ] http : / / xent. com / mailman / listinfo / fork [SEP]\""
          },
          "metadata": {}
        }
      ]
    },
    {
      "cell_type": "markdown",
      "source": [
        "# Loading and training model"
      ],
      "metadata": {
        "id": "X3SFTg8iI-U_"
      }
    },
    {
      "cell_type": "code",
      "source": [
        "model = AutoModelForSequenceClassification.from_pretrained(\n",
        "    BERT_MODEL, num_labels=2,\n",
        "    output_attentions = False, # Whether the model returns attentions weights.\n",
        "    output_hidden_states = False # Whether the model returns all hidden-states.\n",
        ")\n",
        "\n",
        "model.config.id2label = {0: 'SAVE EMAIL', 1: 'PHISHING EMAIL'}"
      ],
      "metadata": {
        "execution": {
          "iopub.status.busy": "2023-07-12T14:28:46.722780Z",
          "iopub.execute_input": "2023-07-12T14:28:46.724343Z",
          "iopub.status.idle": "2023-07-12T14:28:49.838948Z",
          "shell.execute_reply.started": "2023-07-12T14:28:46.724305Z",
          "shell.execute_reply": "2023-07-12T14:28:49.838098Z"
        },
        "trusted": true,
        "id": "Ee2ucSZJI-VA",
        "outputId": "b111819e-ef35-48ee-a7c3-9da2fc8416d1",
        "colab": {
          "referenced_widgets": [
            "0f7f5a5d766843e7b26bd83d4bb06f72"
          ]
        }
      },
      "execution_count": null,
      "outputs": [
        {
          "output_type": "display_data",
          "data": {
            "text/plain": "Downloading pytorch_model.bin:   0%|          | 0.00/263M [00:00<?, ?B/s]",
            "application/vnd.jupyter.widget-view+json": {
              "version_major": 2,
              "version_minor": 0,
              "model_id": "0f7f5a5d766843e7b26bd83d4bb06f72"
            }
          },
          "metadata": {}
        },
        {
          "name": "stderr",
          "text": "Some weights of the model checkpoint at distilbert-base-cased were not used when initializing DistilBertForSequenceClassification: ['vocab_layer_norm.weight', 'vocab_transform.weight', 'vocab_layer_norm.bias', 'vocab_projector.weight', 'vocab_projector.bias', 'vocab_transform.bias']\n- This IS expected if you are initializing DistilBertForSequenceClassification from the checkpoint of a model trained on another task or with another architecture (e.g. initializing a BertForSequenceClassification model from a BertForPreTraining model).\n- This IS NOT expected if you are initializing DistilBertForSequenceClassification from the checkpoint of a model that you expect to be exactly identical (initializing a BertForSequenceClassification model from a BertForSequenceClassification model).\nSome weights of DistilBertForSequenceClassification were not initialized from the model checkpoint at distilbert-base-cased and are newly initialized: ['pre_classifier.bias', 'classifier.weight', 'classifier.bias', 'pre_classifier.weight']\nYou should probably TRAIN this model on a down-stream task to be able to use it for predictions and inference.\n",
          "output_type": "stream"
        }
      ]
    },
    {
      "cell_type": "code",
      "source": [
        "# number of trainable parameters\n",
        "print(model.num_parameters(only_trainable=True)/1e6)"
      ],
      "metadata": {
        "execution": {
          "iopub.status.busy": "2023-07-12T14:28:49.843024Z",
          "iopub.execute_input": "2023-07-12T14:28:49.845408Z",
          "iopub.status.idle": "2023-07-12T14:28:49.855329Z",
          "shell.execute_reply.started": "2023-07-12T14:28:49.845371Z",
          "shell.execute_reply": "2023-07-12T14:28:49.854388Z"
        },
        "trusted": true,
        "id": "L3v5fRYXI-VA",
        "outputId": "1cc93e50-5668-4095-cadc-bd0c4ae29faa"
      },
      "execution_count": null,
      "outputs": [
        {
          "name": "stdout",
          "text": "65.783042\n",
          "output_type": "stream"
        }
      ]
    },
    {
      "cell_type": "code",
      "source": [
        "from datasets import load_metric\n",
        "\n",
        "metric = load_metric(\"accuracy\")\n",
        "\n",
        "def compute_metrics(eval_pred):\n",
        "    logits, labels = eval_pred\n",
        "    predictions = np.argmax(logits, axis=-1)\n",
        "    return metric.compute(predictions=predictions, references=labels)"
      ],
      "metadata": {
        "execution": {
          "iopub.status.busy": "2023-07-12T14:28:49.858391Z",
          "iopub.execute_input": "2023-07-12T14:28:49.861787Z",
          "iopub.status.idle": "2023-07-12T14:28:50.353143Z",
          "shell.execute_reply.started": "2023-07-12T14:28:49.861752Z",
          "shell.execute_reply": "2023-07-12T14:28:50.352091Z"
        },
        "trusted": true,
        "id": "sg8uWzstI-VA",
        "outputId": "b8d8be4b-3726-45e5-a07c-5920b71aceaa",
        "colab": {
          "referenced_widgets": [
            "a8412d1da17043c89625ece11b1a671b"
          ]
        }
      },
      "execution_count": null,
      "outputs": [
        {
          "output_type": "display_data",
          "data": {
            "text/plain": "Downloading builder script:   0%|          | 0.00/1.41k [00:00<?, ?B/s]",
            "application/vnd.jupyter.widget-view+json": {
              "version_major": 2,
              "version_minor": 0,
              "model_id": "a8412d1da17043c89625ece11b1a671b"
            }
          },
          "metadata": {}
        }
      ]
    },
    {
      "cell_type": "code",
      "source": [
        "training_args = TrainingArguments(\n",
        "    output_dir=output_dir,\n",
        "    logging_dir='./logs',\n",
        "    num_train_epochs=num_train_epochs,\n",
        "    per_device_train_batch_size=batch_size,\n",
        "    per_device_eval_batch_size=batch_size,\n",
        "    logging_strategy='steps',\n",
        "    logging_first_step=True,\n",
        "    load_best_model_at_end=True,\n",
        "    logging_steps=1,\n",
        "    evaluation_strategy='epoch',\n",
        "    warmup_steps=warmup_steps,\n",
        "    weight_decay=weight_decay,\n",
        "    eval_steps=1,\n",
        "    save_strategy='epoch',\n",
        "    report_to=\"mlflow\",  # log to mlflow\n",
        ")\n",
        "\n",
        "# Define the trainer:\n",
        "# instantiate the trainer class and check for available devices\n",
        "trainer = Trainer(\n",
        "    model=model,\n",
        "    args=training_args,\n",
        "    compute_metrics=compute_metrics,\n",
        "    train_dataset=medium_dataset['train'],\n",
        "    eval_dataset=medium_dataset['test'],\n",
        "    data_collator=data_collator\n",
        ")"
      ],
      "metadata": {
        "execution": {
          "iopub.status.busy": "2023-07-12T14:28:50.358115Z",
          "iopub.execute_input": "2023-07-12T14:28:50.360588Z",
          "iopub.status.idle": "2023-07-12T14:28:56.125129Z",
          "shell.execute_reply.started": "2023-07-12T14:28:50.360548Z",
          "shell.execute_reply": "2023-07-12T14:28:56.124115Z"
        },
        "trusted": true,
        "id": "2AvjW7O5I-VA"
      },
      "execution_count": null,
      "outputs": []
    },
    {
      "cell_type": "code",
      "source": [
        "# Get initial metrics\n",
        "trainer.evaluate()"
      ],
      "metadata": {
        "execution": {
          "iopub.status.busy": "2023-07-12T14:28:56.127973Z",
          "iopub.execute_input": "2023-07-12T14:28:56.128377Z",
          "iopub.status.idle": "2023-07-12T14:29:38.755978Z",
          "shell.execute_reply.started": "2023-07-12T14:28:56.128340Z",
          "shell.execute_reply": "2023-07-12T14:29:38.755036Z"
        },
        "trusted": true,
        "id": "vxaRZeEBI-VA",
        "outputId": "66a36756-f0f0-4cbf-a746-dee34763116d"
      },
      "execution_count": null,
      "outputs": [
        {
          "name": "stderr",
          "text": "You're using a DistilBertTokenizerFast tokenizer. Please note that with a fast tokenizer, using the `__call__` method is faster than using a method to encode the text followed by a call to the `pad` method to get a padded encoding.\n",
          "output_type": "stream"
        },
        {
          "output_type": "display_data",
          "data": {
            "text/plain": "<IPython.core.display.HTML object>",
            "text/html": "\n    <div>\n      \n      <progress value='550' max='275' style='width:300px; height:20px; vertical-align: middle;'></progress>\n      [275/275 09:17]\n    </div>\n    "
          },
          "metadata": {}
        },
        {
          "execution_count": 22,
          "output_type": "execute_result",
          "data": {
            "text/plain": "{'eval_loss': 0.694774866104126,\n 'eval_accuracy': 0.4822404371584699,\n 'eval_runtime': 42.5773,\n 'eval_samples_per_second': 103.154,\n 'eval_steps_per_second': 6.459}"
          },
          "metadata": {}
        }
      ]
    },
    {
      "cell_type": "code",
      "source": [
        "trainer.train()"
      ],
      "metadata": {
        "execution": {
          "iopub.status.busy": "2023-07-12T14:29:38.757420Z",
          "iopub.execute_input": "2023-07-12T14:29:38.757757Z",
          "iopub.status.idle": "2023-07-12T14:55:35.252171Z",
          "shell.execute_reply.started": "2023-07-12T14:29:38.757725Z",
          "shell.execute_reply": "2023-07-12T14:55:35.251032Z"
        },
        "trusted": true,
        "id": "5bPoHZeTI-VB",
        "outputId": "134936c6-0b26-4462-9371-3510175cdb49"
      },
      "execution_count": null,
      "outputs": [
        {
          "name": "stderr",
          "text": "/opt/conda/lib/python3.10/site-packages/transformers/optimization.py:391: FutureWarning: This implementation of AdamW is deprecated and will be removed in a future version. Use the PyTorch implementation torch.optim.AdamW instead, or set `no_deprecation_warning=True` to disable this warning\n  warnings.warn(\n",
          "output_type": "stream"
        },
        {
          "output_type": "display_data",
          "data": {
            "text/plain": "<IPython.core.display.HTML object>",
            "text/html": "\n    <div>\n      \n      <progress value='3294' max='3294' style='width:300px; height:20px; vertical-align: middle;'></progress>\n      [3294/3294 25:55, Epoch 3/3]\n    </div>\n    <table border=\"1\" class=\"dataframe\">\n  <thead>\n <tr style=\"text-align: left;\">\n      <th>Epoch</th>\n      <th>Training Loss</th>\n      <th>Validation Loss</th>\n      <th>Accuracy</th>\n    </tr>\n  </thead>\n  <tbody>\n    <tr>\n      <td>1</td>\n      <td>0.002000</td>\n      <td>0.046590</td>\n      <td>0.988843</td>\n    </tr>\n    <tr>\n      <td>2</td>\n      <td>0.000200</td>\n      <td>0.037073</td>\n      <td>0.993625</td>\n    </tr>\n    <tr>\n      <td>3</td>\n      <td>0.000100</td>\n      <td>0.038644</td>\n      <td>0.992714</td>\n    </tr>\n  </tbody>\n</table><p>"
          },
          "metadata": {}
        },
        {
          "execution_count": 23,
          "output_type": "execute_result",
          "data": {
            "text/plain": "TrainOutput(global_step=3294, training_loss=0.04472334078184669, metrics={'train_runtime': 1556.455, 'train_samples_per_second': 33.862, 'train_steps_per_second': 2.116, 'total_flos': 6976623228559680.0, 'train_loss': 0.04472334078184669, 'epoch': 3.0})"
          },
          "metadata": {}
        }
      ]
    },
    {
      "cell_type": "code",
      "source": [
        "trainer.evaluate()"
      ],
      "metadata": {
        "execution": {
          "iopub.status.busy": "2023-07-12T14:55:35.253954Z",
          "iopub.execute_input": "2023-07-12T14:55:35.254806Z",
          "iopub.status.idle": "2023-07-12T14:56:16.658225Z",
          "shell.execute_reply.started": "2023-07-12T14:55:35.254755Z",
          "shell.execute_reply": "2023-07-12T14:56:16.657128Z"
        },
        "trusted": true,
        "id": "-Ur97JO5I-VB",
        "outputId": "558e5105-a87d-4772-fa35-0deeeebe9b31"
      },
      "execution_count": null,
      "outputs": [
        {
          "output_type": "display_data",
          "data": {
            "text/plain": "<IPython.core.display.HTML object>",
            "text/html": "\n    <div>\n      \n      <progress value='275' max='275' style='width:300px; height:20px; vertical-align: middle;'></progress>\n      [275/275 00:41]\n    </div>\n    "
          },
          "metadata": {}
        },
        {
          "execution_count": 24,
          "output_type": "execute_result",
          "data": {
            "text/plain": "{'eval_loss': 0.03707250580191612,\n 'eval_accuracy': 0.9936247723132969,\n 'eval_runtime': 41.3827,\n 'eval_samples_per_second': 106.131,\n 'eval_steps_per_second': 6.645,\n 'epoch': 3.0}"
          },
          "metadata": {}
        }
      ]
    },
    {
      "cell_type": "markdown",
      "source": [
        "# Saving the model and checking its performance with a sample title"
      ],
      "metadata": {
        "id": "KY1KQu1KI-VB"
      }
    },
    {
      "cell_type": "code",
      "source": [
        "trainer.save_model()"
      ],
      "metadata": {
        "execution": {
          "iopub.status.busy": "2023-07-12T14:56:16.659899Z",
          "iopub.execute_input": "2023-07-12T14:56:16.660302Z",
          "iopub.status.idle": "2023-07-12T14:56:17.110610Z",
          "shell.execute_reply.started": "2023-07-12T14:56:16.660262Z",
          "shell.execute_reply": "2023-07-12T14:56:17.109540Z"
        },
        "trusted": true,
        "id": "2V5eoBaCI-VB"
      },
      "execution_count": null,
      "outputs": []
    },
    {
      "cell_type": "code",
      "source": [
        "tokenizer.save_vocabulary(save_directory=output_dir)"
      ],
      "metadata": {
        "execution": {
          "iopub.status.busy": "2023-07-12T14:56:17.112349Z",
          "iopub.execute_input": "2023-07-12T14:56:17.112726Z",
          "iopub.status.idle": "2023-07-12T14:56:17.130432Z",
          "shell.execute_reply.started": "2023-07-12T14:56:17.112689Z",
          "shell.execute_reply": "2023-07-12T14:56:17.129424Z"
        },
        "trusted": true,
        "id": "XQd4XTkaI-VB",
        "outputId": "d99eca35-eb1e-4ace-f514-1aa6467931d1"
      },
      "execution_count": null,
      "outputs": [
        {
          "execution_count": 26,
          "output_type": "execute_result",
          "data": {
            "text/plain": "('./phishing-email-detection/vocab.txt',)"
          },
          "metadata": {}
        }
      ]
    },
    {
      "cell_type": "code",
      "source": [
        "# make a classification pipeline\n",
        "pipe = pipeline(\"text-classification\", output_dir, tokenizer=BERT_MODEL)\n",
        "sample_title = '''Why do employees leave companies — analysis of IBM employee data'''\n",
        "pipe(sample_title, top_k=None)"
      ],
      "metadata": {
        "execution": {
          "iopub.status.busy": "2023-07-12T14:56:17.132211Z",
          "iopub.execute_input": "2023-07-12T14:56:17.132890Z",
          "iopub.status.idle": "2023-07-12T14:56:18.850110Z",
          "shell.execute_reply.started": "2023-07-12T14:56:17.132852Z",
          "shell.execute_reply": "2023-07-12T14:56:18.848987Z"
        },
        "trusted": true,
        "id": "hrlY5y54I-VB",
        "outputId": "10d186f0-1188-44d8-c6ac-f91d2f4d45f4"
      },
      "execution_count": null,
      "outputs": [
        {
          "execution_count": 27,
          "output_type": "execute_result",
          "data": {
            "text/plain": "[{'label': 'SAVE EMAIL', 'score': 0.9475719332695007},\n {'label': 'PHISHING EMAIL', 'score': 0.05242803692817688}]"
          },
          "metadata": {}
        }
      ]
    },
    {
      "cell_type": "code",
      "source": [
        "# use the upper cased version\n",
        "sample_title2 = sample_title.upper()\n",
        "pipe(sample_title2, top_k=None)"
      ],
      "metadata": {
        "execution": {
          "iopub.status.busy": "2023-07-12T14:56:18.851728Z",
          "iopub.execute_input": "2023-07-12T14:56:18.852129Z",
          "iopub.status.idle": "2023-07-12T14:56:18.934247Z",
          "shell.execute_reply.started": "2023-07-12T14:56:18.852094Z",
          "shell.execute_reply": "2023-07-12T14:56:18.933121Z"
        },
        "trusted": true,
        "id": "T6Zd74W-I-VC",
        "outputId": "9749d38b-a3e5-4e66-9bba-c3d63229dec8"
      },
      "execution_count": null,
      "outputs": [
        {
          "execution_count": 28,
          "output_type": "execute_result",
          "data": {
            "text/plain": "[{'label': 'PHISHING EMAIL', 'score': 0.9951817393302917},\n {'label': 'SAVE EMAIL', 'score': 0.00481817964464426}]"
          },
          "metadata": {}
        }
      ]
    },
    {
      "cell_type": "code",
      "source": [
        "# more refined version\n",
        "sample_title3 = '''Why do employees leave companies?'''\n",
        "pipe(sample_title3, top_k=None)"
      ],
      "metadata": {
        "execution": {
          "iopub.status.busy": "2023-07-12T14:56:18.935923Z",
          "iopub.execute_input": "2023-07-12T14:56:18.936339Z",
          "iopub.status.idle": "2023-07-12T14:56:18.999913Z",
          "shell.execute_reply.started": "2023-07-12T14:56:18.936303Z",
          "shell.execute_reply": "2023-07-12T14:56:18.998921Z"
        },
        "trusted": true,
        "id": "xknEZtxfI-VC",
        "outputId": "f09df6c9-7606-4006-d920-7d87e716aec7"
      },
      "execution_count": null,
      "outputs": [
        {
          "execution_count": 29,
          "output_type": "execute_result",
          "data": {
            "text/plain": "[{'label': 'SAVE EMAIL', 'score': 0.606553852558136},\n {'label': 'PHISHING EMAIL', 'score': 0.3934462070465088}]"
          },
          "metadata": {}
        }
      ]
    },
    {
      "cell_type": "code",
      "source": [
        "# finally, save the model to Huggingface\n",
        "from huggingface_hub import notebook_login\n",
        "notebook_login()"
      ],
      "metadata": {
        "execution": {
          "iopub.status.busy": "2023-07-12T14:56:36.045602Z",
          "iopub.execute_input": "2023-07-12T14:56:36.046644Z",
          "iopub.status.idle": "2023-07-12T14:56:36.071654Z",
          "shell.execute_reply.started": "2023-07-12T14:56:36.046598Z",
          "shell.execute_reply": "2023-07-12T14:56:36.070615Z"
        },
        "trusted": true,
        "id": "Ky5Iz6vnI-VC",
        "outputId": "a6eb32cf-3144-48bb-b950-1c76ce9d8c40",
        "colab": {
          "referenced_widgets": [
            "14794f58e54a469da3b450b927cf9d2c"
          ]
        }
      },
      "execution_count": null,
      "outputs": [
        {
          "output_type": "display_data",
          "data": {
            "text/plain": "VBox(children=(HTML(value='<center> <img\\nsrc=https://huggingface.co/front/assets/huggingface_logo-noborder.sv…",
            "application/vnd.jupyter.widget-view+json": {
              "version_major": 2,
              "version_minor": 0,
              "model_id": "14794f58e54a469da3b450b927cf9d2c"
            }
          },
          "metadata": {}
        }
      ]
    },
    {
      "cell_type": "code",
      "source": [
        "from huggingface_hub import create_repo\n",
        "create_repo(\"dima806/phishing-email-detection\", repo_type=\"model\")"
      ],
      "metadata": {
        "execution": {
          "iopub.status.busy": "2023-07-12T14:56:43.328838Z",
          "iopub.execute_input": "2023-07-12T14:56:43.329273Z",
          "iopub.status.idle": "2023-07-12T14:56:43.570788Z",
          "shell.execute_reply.started": "2023-07-12T14:56:43.329221Z",
          "shell.execute_reply": "2023-07-12T14:56:43.569798Z"
        },
        "trusted": true,
        "id": "1m1IRkTLI-VC",
        "outputId": "5c464d7f-6f5b-4a1b-c73a-d8146a5c2f47"
      },
      "execution_count": null,
      "outputs": [
        {
          "execution_count": 33,
          "output_type": "execute_result",
          "data": {
            "text/plain": "RepoUrl('https://huggingface.co/dima806/phishing-email-detection', endpoint='https://huggingface.co', repo_type='model', repo_id='dima806/phishing-email-detection')"
          },
          "metadata": {}
        }
      ]
    },
    {
      "cell_type": "code",
      "source": [
        "from huggingface_hub import HfApi\n",
        "api = HfApi()\n",
        "api.upload_folder(\n",
        "    folder_path=output_dir,\n",
        "    path_in_repo = \".\",\n",
        "    repo_id=\"dima806/phishing-email-detection\",\n",
        "    repo_type=\"model\"\n",
        ")"
      ],
      "metadata": {
        "execution": {
          "iopub.status.busy": "2023-07-12T14:56:48.055394Z",
          "iopub.execute_input": "2023-07-12T14:56:48.056199Z",
          "iopub.status.idle": "2023-07-12T14:57:21.511129Z",
          "shell.execute_reply.started": "2023-07-12T14:56:48.056160Z",
          "shell.execute_reply": "2023-07-12T14:57:21.510005Z"
        },
        "trusted": true,
        "id": "BtDWnaqwI-VC",
        "outputId": "a2a5a9fc-3754-4fc1-da46-f01eae9a8737",
        "colab": {
          "referenced_widgets": [
            "30521f7de8694f0992e67cdd28d2efaa",
            "89aa6b7d8ce143e589ff9710887e86bb",
            "4230887594aa447dae5e2ca74adee768",
            "5f73cde0a28a48718747782f03764a38",
            "f621cd1da7f547bf972f5adde13af4d3",
            "e58cad382e284c97a36823fdc39eba9c",
            "ad2aa5737dbf4aeea919663fcf58121b",
            "1fbfd5b5eef54a2d999cfc726e8704c1",
            "cf4f3b1fabde4783a5116e1410ef5792",
            "f25f08bbb2424bc9b9f6131eddd8ccfc",
            "e81187456b47458f95f8434f2d2f3694",
            "3a45210445e54fabba93d56d7f55ad8d",
            "18782d0e9cc84a2b9355d337bc17f7fe",
            "576b76e6c2fa40fd8637d3932b45b0f6",
            "98d78a87dfd44af08ab8e35e5b1c2676",
            "9083b52cd78a4534b6e0eb6b092edce0",
            "5985949544f64b05b5af7a94806b3047",
            "8a41a4a9ba7e4ecc9bf9de4bcac2729f"
          ]
        }
      },
      "execution_count": null,
      "outputs": [
        {
          "output_type": "display_data",
          "data": {
            "text/plain": "pytorch_model.bin:   0%|          | 0.00/263M [00:00<?, ?B/s]",
            "application/vnd.jupyter.widget-view+json": {
              "version_major": 2,
              "version_minor": 0,
              "model_id": "30521f7de8694f0992e67cdd28d2efaa"
            }
          },
          "metadata": {}
        },
        {
          "output_type": "display_data",
          "data": {
            "text/plain": "scheduler.pt:   0%|          | 0.00/627 [00:00<?, ?B/s]",
            "application/vnd.jupyter.widget-view+json": {
              "version_major": 2,
              "version_minor": 0,
              "model_id": "89aa6b7d8ce143e589ff9710887e86bb"
            }
          },
          "metadata": {}
        },
        {
          "output_type": "display_data",
          "data": {
            "text/plain": "optimizer.pt:   0%|          | 0.00/526M [00:00<?, ?B/s]",
            "application/vnd.jupyter.widget-view+json": {
              "version_major": 2,
              "version_minor": 0,
              "model_id": "4230887594aa447dae5e2ca74adee768"
            }
          },
          "metadata": {}
        },
        {
          "output_type": "display_data",
          "data": {
            "text/plain": "Upload 17 LFS files:   0%|          | 0/17 [00:00<?, ?it/s]",
            "application/vnd.jupyter.widget-view+json": {
              "version_major": 2,
              "version_minor": 0,
              "model_id": "5f73cde0a28a48718747782f03764a38"
            }
          },
          "metadata": {}
        },
        {
          "output_type": "display_data",
          "data": {
            "text/plain": "rng_state.pth:   0%|          | 0.00/14.6k [00:00<?, ?B/s]",
            "application/vnd.jupyter.widget-view+json": {
              "version_major": 2,
              "version_minor": 0,
              "model_id": "f621cd1da7f547bf972f5adde13af4d3"
            }
          },
          "metadata": {}
        },
        {
          "output_type": "display_data",
          "data": {
            "text/plain": "training_args.bin:   0%|          | 0.00/3.58k [00:00<?, ?B/s]",
            "application/vnd.jupyter.widget-view+json": {
              "version_major": 2,
              "version_minor": 0,
              "model_id": "e58cad382e284c97a36823fdc39eba9c"
            }
          },
          "metadata": {}
        },
        {
          "output_type": "display_data",
          "data": {
            "text/plain": "optimizer.pt:   0%|          | 0.00/526M [00:00<?, ?B/s]",
            "application/vnd.jupyter.widget-view+json": {
              "version_major": 2,
              "version_minor": 0,
              "model_id": "ad2aa5737dbf4aeea919663fcf58121b"
            }
          },
          "metadata": {}
        },
        {
          "output_type": "display_data",
          "data": {
            "text/plain": "pytorch_model.bin:   0%|          | 0.00/263M [00:00<?, ?B/s]",
            "application/vnd.jupyter.widget-view+json": {
              "version_major": 2,
              "version_minor": 0,
              "model_id": "1fbfd5b5eef54a2d999cfc726e8704c1"
            }
          },
          "metadata": {}
        },
        {
          "output_type": "display_data",
          "data": {
            "text/plain": "rng_state.pth:   0%|          | 0.00/14.6k [00:00<?, ?B/s]",
            "application/vnd.jupyter.widget-view+json": {
              "version_major": 2,
              "version_minor": 0,
              "model_id": "cf4f3b1fabde4783a5116e1410ef5792"
            }
          },
          "metadata": {}
        },
        {
          "output_type": "display_data",
          "data": {
            "text/plain": "scheduler.pt:   0%|          | 0.00/627 [00:00<?, ?B/s]",
            "application/vnd.jupyter.widget-view+json": {
              "version_major": 2,
              "version_minor": 0,
              "model_id": "f25f08bbb2424bc9b9f6131eddd8ccfc"
            }
          },
          "metadata": {}
        },
        {
          "output_type": "display_data",
          "data": {
            "text/plain": "training_args.bin:   0%|          | 0.00/3.58k [00:00<?, ?B/s]",
            "application/vnd.jupyter.widget-view+json": {
              "version_major": 2,
              "version_minor": 0,
              "model_id": "e81187456b47458f95f8434f2d2f3694"
            }
          },
          "metadata": {}
        },
        {
          "output_type": "display_data",
          "data": {
            "text/plain": "optimizer.pt:   0%|          | 0.00/526M [00:00<?, ?B/s]",
            "application/vnd.jupyter.widget-view+json": {
              "version_major": 2,
              "version_minor": 0,
              "model_id": "3a45210445e54fabba93d56d7f55ad8d"
            }
          },
          "metadata": {}
        },
        {
          "output_type": "display_data",
          "data": {
            "text/plain": "pytorch_model.bin:   0%|          | 0.00/263M [00:00<?, ?B/s]",
            "application/vnd.jupyter.widget-view+json": {
              "version_major": 2,
              "version_minor": 0,
              "model_id": "18782d0e9cc84a2b9355d337bc17f7fe"
            }
          },
          "metadata": {}
        },
        {
          "output_type": "display_data",
          "data": {
            "text/plain": "rng_state.pth:   0%|          | 0.00/14.6k [00:00<?, ?B/s]",
            "application/vnd.jupyter.widget-view+json": {
              "version_major": 2,
              "version_minor": 0,
              "model_id": "576b76e6c2fa40fd8637d3932b45b0f6"
            }
          },
          "metadata": {}
        },
        {
          "output_type": "display_data",
          "data": {
            "text/plain": "scheduler.pt:   0%|          | 0.00/627 [00:00<?, ?B/s]",
            "application/vnd.jupyter.widget-view+json": {
              "version_major": 2,
              "version_minor": 0,
              "model_id": "98d78a87dfd44af08ab8e35e5b1c2676"
            }
          },
          "metadata": {}
        },
        {
          "output_type": "display_data",
          "data": {
            "text/plain": "training_args.bin:   0%|          | 0.00/3.58k [00:00<?, ?B/s]",
            "application/vnd.jupyter.widget-view+json": {
              "version_major": 2,
              "version_minor": 0,
              "model_id": "9083b52cd78a4534b6e0eb6b092edce0"
            }
          },
          "metadata": {}
        },
        {
          "output_type": "display_data",
          "data": {
            "text/plain": "pytorch_model.bin:   0%|          | 0.00/263M [00:00<?, ?B/s]",
            "application/vnd.jupyter.widget-view+json": {
              "version_major": 2,
              "version_minor": 0,
              "model_id": "5985949544f64b05b5af7a94806b3047"
            }
          },
          "metadata": {}
        },
        {
          "output_type": "display_data",
          "data": {
            "text/plain": "training_args.bin:   0%|          | 0.00/3.58k [00:00<?, ?B/s]",
            "application/vnd.jupyter.widget-view+json": {
              "version_major": 2,
              "version_minor": 0,
              "model_id": "8a41a4a9ba7e4ecc9bf9de4bcac2729f"
            }
          },
          "metadata": {}
        },
        {
          "execution_count": 34,
          "output_type": "execute_result",
          "data": {
            "text/plain": "'https://huggingface.co/dima806/phishing-email-detection/tree/main/.'"
          },
          "metadata": {}
        }
      ]
    },
    {
      "cell_type": "code",
      "source": [],
      "metadata": {
        "id": "wnGhxX5_I-VD"
      },
      "execution_count": null,
      "outputs": []
    }
  ]
}